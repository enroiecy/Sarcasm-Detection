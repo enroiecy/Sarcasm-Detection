{
  "cells": [
    {
      "cell_type": "code",
      "execution_count": 1,
      "metadata": {
        "colab": {
          "base_uri": "https://localhost:8080/",
          "height": 73
        },
        "id": "jE2_nwMi69yU",
        "outputId": "83034e5a-4fe4-41e8-cba0-c62b448d7855"
      },
      "outputs": [
        {
          "output_type": "display_data",
          "data": {
            "text/plain": [
              "<IPython.core.display.HTML object>"
            ],
            "text/html": [
              "\n",
              "     <input type=\"file\" id=\"files-a4081d84-0f26-469a-a311-17efdd0669e7\" name=\"files[]\" multiple disabled\n",
              "        style=\"border:none\" />\n",
              "     <output id=\"result-a4081d84-0f26-469a-a311-17efdd0669e7\">\n",
              "      Upload widget is only available when the cell has been executed in the\n",
              "      current browser session. Please rerun this cell to enable.\n",
              "      </output>\n",
              "      <script>// Copyright 2017 Google LLC\n",
              "//\n",
              "// Licensed under the Apache License, Version 2.0 (the \"License\");\n",
              "// you may not use this file except in compliance with the License.\n",
              "// You may obtain a copy of the License at\n",
              "//\n",
              "//      http://www.apache.org/licenses/LICENSE-2.0\n",
              "//\n",
              "// Unless required by applicable law or agreed to in writing, software\n",
              "// distributed under the License is distributed on an \"AS IS\" BASIS,\n",
              "// WITHOUT WARRANTIES OR CONDITIONS OF ANY KIND, either express or implied.\n",
              "// See the License for the specific language governing permissions and\n",
              "// limitations under the License.\n",
              "\n",
              "/**\n",
              " * @fileoverview Helpers for google.colab Python module.\n",
              " */\n",
              "(function(scope) {\n",
              "function span(text, styleAttributes = {}) {\n",
              "  const element = document.createElement('span');\n",
              "  element.textContent = text;\n",
              "  for (const key of Object.keys(styleAttributes)) {\n",
              "    element.style[key] = styleAttributes[key];\n",
              "  }\n",
              "  return element;\n",
              "}\n",
              "\n",
              "// Max number of bytes which will be uploaded at a time.\n",
              "const MAX_PAYLOAD_SIZE = 100 * 1024;\n",
              "\n",
              "function _uploadFiles(inputId, outputId) {\n",
              "  const steps = uploadFilesStep(inputId, outputId);\n",
              "  const outputElement = document.getElementById(outputId);\n",
              "  // Cache steps on the outputElement to make it available for the next call\n",
              "  // to uploadFilesContinue from Python.\n",
              "  outputElement.steps = steps;\n",
              "\n",
              "  return _uploadFilesContinue(outputId);\n",
              "}\n",
              "\n",
              "// This is roughly an async generator (not supported in the browser yet),\n",
              "// where there are multiple asynchronous steps and the Python side is going\n",
              "// to poll for completion of each step.\n",
              "// This uses a Promise to block the python side on completion of each step,\n",
              "// then passes the result of the previous step as the input to the next step.\n",
              "function _uploadFilesContinue(outputId) {\n",
              "  const outputElement = document.getElementById(outputId);\n",
              "  const steps = outputElement.steps;\n",
              "\n",
              "  const next = steps.next(outputElement.lastPromiseValue);\n",
              "  return Promise.resolve(next.value.promise).then((value) => {\n",
              "    // Cache the last promise value to make it available to the next\n",
              "    // step of the generator.\n",
              "    outputElement.lastPromiseValue = value;\n",
              "    return next.value.response;\n",
              "  });\n",
              "}\n",
              "\n",
              "/**\n",
              " * Generator function which is called between each async step of the upload\n",
              " * process.\n",
              " * @param {string} inputId Element ID of the input file picker element.\n",
              " * @param {string} outputId Element ID of the output display.\n",
              " * @return {!Iterable<!Object>} Iterable of next steps.\n",
              " */\n",
              "function* uploadFilesStep(inputId, outputId) {\n",
              "  const inputElement = document.getElementById(inputId);\n",
              "  inputElement.disabled = false;\n",
              "\n",
              "  const outputElement = document.getElementById(outputId);\n",
              "  outputElement.innerHTML = '';\n",
              "\n",
              "  const pickedPromise = new Promise((resolve) => {\n",
              "    inputElement.addEventListener('change', (e) => {\n",
              "      resolve(e.target.files);\n",
              "    });\n",
              "  });\n",
              "\n",
              "  const cancel = document.createElement('button');\n",
              "  inputElement.parentElement.appendChild(cancel);\n",
              "  cancel.textContent = 'Cancel upload';\n",
              "  const cancelPromise = new Promise((resolve) => {\n",
              "    cancel.onclick = () => {\n",
              "      resolve(null);\n",
              "    };\n",
              "  });\n",
              "\n",
              "  // Wait for the user to pick the files.\n",
              "  const files = yield {\n",
              "    promise: Promise.race([pickedPromise, cancelPromise]),\n",
              "    response: {\n",
              "      action: 'starting',\n",
              "    }\n",
              "  };\n",
              "\n",
              "  cancel.remove();\n",
              "\n",
              "  // Disable the input element since further picks are not allowed.\n",
              "  inputElement.disabled = true;\n",
              "\n",
              "  if (!files) {\n",
              "    return {\n",
              "      response: {\n",
              "        action: 'complete',\n",
              "      }\n",
              "    };\n",
              "  }\n",
              "\n",
              "  for (const file of files) {\n",
              "    const li = document.createElement('li');\n",
              "    li.append(span(file.name, {fontWeight: 'bold'}));\n",
              "    li.append(span(\n",
              "        `(${file.type || 'n/a'}) - ${file.size} bytes, ` +\n",
              "        `last modified: ${\n",
              "            file.lastModifiedDate ? file.lastModifiedDate.toLocaleDateString() :\n",
              "                                    'n/a'} - `));\n",
              "    const percent = span('0% done');\n",
              "    li.appendChild(percent);\n",
              "\n",
              "    outputElement.appendChild(li);\n",
              "\n",
              "    const fileDataPromise = new Promise((resolve) => {\n",
              "      const reader = new FileReader();\n",
              "      reader.onload = (e) => {\n",
              "        resolve(e.target.result);\n",
              "      };\n",
              "      reader.readAsArrayBuffer(file);\n",
              "    });\n",
              "    // Wait for the data to be ready.\n",
              "    let fileData = yield {\n",
              "      promise: fileDataPromise,\n",
              "      response: {\n",
              "        action: 'continue',\n",
              "      }\n",
              "    };\n",
              "\n",
              "    // Use a chunked sending to avoid message size limits. See b/62115660.\n",
              "    let position = 0;\n",
              "    do {\n",
              "      const length = Math.min(fileData.byteLength - position, MAX_PAYLOAD_SIZE);\n",
              "      const chunk = new Uint8Array(fileData, position, length);\n",
              "      position += length;\n",
              "\n",
              "      const base64 = btoa(String.fromCharCode.apply(null, chunk));\n",
              "      yield {\n",
              "        response: {\n",
              "          action: 'append',\n",
              "          file: file.name,\n",
              "          data: base64,\n",
              "        },\n",
              "      };\n",
              "\n",
              "      let percentDone = fileData.byteLength === 0 ?\n",
              "          100 :\n",
              "          Math.round((position / fileData.byteLength) * 100);\n",
              "      percent.textContent = `${percentDone}% done`;\n",
              "\n",
              "    } while (position < fileData.byteLength);\n",
              "  }\n",
              "\n",
              "  // All done.\n",
              "  yield {\n",
              "    response: {\n",
              "      action: 'complete',\n",
              "    }\n",
              "  };\n",
              "}\n",
              "\n",
              "scope.google = scope.google || {};\n",
              "scope.google.colab = scope.google.colab || {};\n",
              "scope.google.colab._files = {\n",
              "  _uploadFiles,\n",
              "  _uploadFilesContinue,\n",
              "};\n",
              "})(self);\n",
              "</script> "
            ]
          },
          "metadata": {}
        },
        {
          "output_type": "stream",
          "name": "stdout",
          "text": [
            "Saving sarcasm_dataset.jsonl to sarcasm_dataset.jsonl\n"
          ]
        }
      ],
      "source": [
        "from google.colab import files\n",
        "import pandas as pd\n",
        "import io\n",
        "\n",
        "uploaded = files.upload()"
      ]
    },
    {
      "cell_type": "code",
      "execution_count": 3,
      "metadata": {
        "colab": {
          "base_uri": "https://localhost:8080/"
        },
        "id": "B-i0U4kR8V5j",
        "outputId": "894bb8a2-aa46-47b4-93cd-2d10025bf31a"
      },
      "outputs": [
        {
          "output_type": "stream",
          "name": "stdout",
          "text": [
            "     label                                           response  \\\n",
            "0  SARCASM  @USER @USER @USER I don't get this .. obviousl...   \n",
            "1  SARCASM  @USER @USER trying to protest about . Talking ...   \n",
            "2  SARCASM  @USER @USER @USER He makes an insane about of ...   \n",
            "3  SARCASM  @USER @USER Meanwhile Trump won't even release...   \n",
            "4  SARCASM  @USER @USER Pretty Sure the Anti-Lincoln Crowd...   \n",
            "\n",
            "                                             context  \n",
            "0  [A minor child deserves privacy and should be ...  \n",
            "1  [@USER @USER Why is he a loser ? He's just a P...  \n",
            "2  [Donald J . Trump is guilty as charged . The e...  \n",
            "3  [Jamie Raskin tanked Doug Collins . Collins lo...  \n",
            "4  [Man ... y ’ all gone “ both sides ” the apoca...  \n"
          ]
        }
      ],
      "source": [
        "df = pd.read_json(io.BytesIO(uploaded['sarcasm_dataset.jsonl']), lines=True)\n",
        "df_copy = df.copy()\n",
        "print(df.head())"
      ]
    },
    {
      "cell_type": "code",
      "execution_count": 4,
      "metadata": {
        "colab": {
          "base_uri": "https://localhost:8080/"
        },
        "id": "rSeW0Q9JCmO6",
        "outputId": "43f6a384-fec6-421e-f36f-d8c5beb44e3f"
      },
      "outputs": [
        {
          "output_type": "stream",
          "name": "stdout",
          "text": [
            "# data points: 5000\n"
          ]
        }
      ],
      "source": [
        "# total dataset size\n",
        "print(\"# data points: \" + str(len(df)))"
      ]
    },
    {
      "cell_type": "code",
      "execution_count": 5,
      "metadata": {
        "colab": {
          "base_uri": "https://localhost:8080/"
        },
        "id": "BD7CiYr3DaqT",
        "outputId": "c125b50a-4c47-4848-be32-9ebce1184c5e"
      },
      "outputs": [
        {
          "output_type": "stream",
          "name": "stdout",
          "text": [
            "# sarcasm data points: 2500\n",
            "# non-sarcasm data points: 2500\n"
          ]
        }
      ],
      "source": [
        "# labeled 0 amount\n",
        "print(\"# sarcasm data points: \" + str(len(df[df['label'] == 'SARCASM'])))\n",
        "# labeled 1 amount\n",
        "print(\"# non-sarcasm data points: \" + str(len(df[df['label'] == 'NOT_SARCASM'])))"
      ]
    },
    {
      "cell_type": "code",
      "execution_count": 6,
      "metadata": {
        "colab": {
          "base_uri": "https://localhost:8080/"
        },
        "id": "pVOPSJNuOdAd",
        "outputId": "d60c9cd3-b16a-4653-9d28-4c8ab91da810"
      },
      "outputs": [
        {
          "output_type": "stream",
          "name": "stderr",
          "text": [
            "[nltk_data] Downloading package punkt to /root/nltk_data...\n",
            "[nltk_data]   Unzipping tokenizers/punkt.zip.\n"
          ]
        },
        {
          "output_type": "stream",
          "name": "stdout",
          "text": [
            "Vocabulary size: 15796\n"
          ]
        }
      ],
      "source": [
        "import nltk\n",
        "nltk.download('punkt')\n",
        "from nltk.tokenize import word_tokenize\n",
        "\n",
        "# Corpus\n",
        "corpus = df[\"response\"].dropna().tolist()\n",
        "corpus_str = '. '.join(corpus)\n",
        "tokens = word_tokenize(corpus_str)\n",
        "print(\"Vocabulary size: \" + str(len(set(tokens))))"
      ]
    },
    {
      "cell_type": "code",
      "execution_count": 7,
      "metadata": {
        "colab": {
          "base_uri": "https://localhost:8080/"
        },
        "id": "Jh36OVFxRO43",
        "outputId": "d2a0f74d-b2bd-4075-f97b-f352635875c6"
      },
      "outputs": [
        {
          "output_type": "stream",
          "name": "stdout",
          "text": [
            "Collecting textstat\n",
            "  Downloading textstat-0.7.3-py3-none-any.whl (105 kB)\n",
            "\u001b[2K     \u001b[90m━━━━━━━━━━━━━━━━━━━━━━━━━━━━━━━━━━━━━━━━\u001b[0m \u001b[32m105.1/105.1 kB\u001b[0m \u001b[31m1.4 MB/s\u001b[0m eta \u001b[36m0:00:00\u001b[0m\n",
            "\u001b[?25hCollecting pyphen (from textstat)\n",
            "  Downloading pyphen-0.14.0-py3-none-any.whl (2.0 MB)\n",
            "\u001b[2K     \u001b[90m━━━━━━━━━━━━━━━━━━━━━━━━━━━━━━━━━━━━━━━━\u001b[0m \u001b[32m2.0/2.0 MB\u001b[0m \u001b[31m13.5 MB/s\u001b[0m eta \u001b[36m0:00:00\u001b[0m\n",
            "\u001b[?25hInstalling collected packages: pyphen, textstat\n",
            "Successfully installed pyphen-0.14.0 textstat-0.7.3\n"
          ]
        }
      ],
      "source": [
        "!pip install textstat"
      ]
    },
    {
      "cell_type": "code",
      "execution_count": 8,
      "metadata": {
        "colab": {
          "base_uri": "https://localhost:8080/"
        },
        "id": "fcvs26ILW0iv",
        "outputId": "a01864b6-19f8-4653-931c-5338acc25dbc"
      },
      "outputs": [
        {
          "output_type": "stream",
          "name": "stdout",
          "text": [
            "Min Sentence Length per Entry: 1\n",
            "Max Sentence Length per Entry: 10\n",
            "Avg Sentence Length per Entry: 1.9556\n"
          ]
        }
      ],
      "source": [
        "import textstat\n",
        "sentence_lens = [textstat.sentence_count(tweet) for tweet in corpus]\n",
        "print(\"Min Sentence Length per Entry: \" + str(min(sentence_lens)))\n",
        "print(\"Max Sentence Length per Entry: \" + str(max(sentence_lens)))\n",
        "print(\"Avg Sentence Length per Entry: \" + str(sum(sentence_lens) / len(sentence_lens)))"
      ]
    },
    {
      "cell_type": "code",
      "execution_count": 9,
      "metadata": {
        "colab": {
          "base_uri": "https://localhost:8080/"
        },
        "id": "djChfexFX3Kn",
        "outputId": "8daae308-f337-4296-ad95-48fe7aa8af43"
      },
      "outputs": [
        {
          "output_type": "stream",
          "name": "stdout",
          "text": [
            "Min Word per Sentence: 3.0\n",
            "Max Word per Sentence: 57.0\n",
            "Avg Word per Sentence: 12.017999590918388\n"
          ]
        }
      ],
      "source": [
        "word_per_sentence = [textstat.words_per_sentence(tweet) for tweet in corpus]\n",
        "print(\"Min Word per Sentence: \" + str(min(word_per_sentence)))\n",
        "print(\"Max Word per Sentence: \" + str(max(word_per_sentence)))\n",
        "print(\"Avg Word per Sentence: \" + str(textstat.words_per_sentence(corpus_str)))"
      ]
    },
    {
      "cell_type": "code",
      "execution_count": 10,
      "metadata": {
        "colab": {
          "base_uri": "https://localhost:8080/"
        },
        "id": "tovrhVtzbomT",
        "outputId": "0012b334-8ff1-4321-cd01-e6eb86a44161"
      },
      "outputs": [
        {
          "output_type": "stream",
          "name": "stdout",
          "text": [
            "Min Sentence Length per Non-Sarcasm Entry: 1\n",
            "Max Sentence Length per Non-Sarcasm Entry: 10\n",
            "Avg Sentence Length per Non-Sarcasm Entry: 2.1804\n",
            "Min Sentence Length per Sarcasm Entry: 1\n",
            "Max Sentence Length per Sarcasm Entry: 8\n",
            "Avg Sentence Length per Sarcasm Entry: 1.7308\n"
          ]
        }
      ],
      "source": [
        "corpus_0 = df[df['label'] == 'NOT_SARCASM'][\"response\"].dropna().tolist()\n",
        "corpus_1 = df[df['label'] == 'SARCASM'][\"response\"].dropna().tolist()\n",
        "corpus_str_0 = '. '.join(corpus_0)\n",
        "corpus_str_1 = '. '.join(corpus_1)\n",
        "sentence_lens_0 = [textstat.sentence_count(tweet) for tweet in corpus_0]\n",
        "print(\"Min Sentence Length per Non-Sarcasm Entry: \" + str(min(sentence_lens_0)))\n",
        "print(\"Max Sentence Length per Non-Sarcasm Entry: \" + str(max(sentence_lens_0)))\n",
        "print(\"Avg Sentence Length per Non-Sarcasm Entry: \" + str(sum(sentence_lens_0) / len(sentence_lens_0)))\n",
        "sentence_lens_1 = [textstat.sentence_count(tweet) for tweet in corpus_1]\n",
        "print(\"Min Sentence Length per Sarcasm Entry: \" + str(min(sentence_lens_1)))\n",
        "print(\"Max Sentence Length per Sarcasm Entry: \" + str(max(sentence_lens_1)))\n",
        "print(\"Avg Sentence Length per Sarcasm Entry: \" + str(sum(sentence_lens_1) / len(sentence_lens_1)))"
      ]
    },
    {
      "cell_type": "code",
      "execution_count": 11,
      "metadata": {
        "colab": {
          "base_uri": "https://localhost:8080/"
        },
        "id": "84v6N-iZboo4",
        "outputId": "cc77d4cc-4c48-4d6f-cd79-ebc51905b49c"
      },
      "outputs": [
        {
          "output_type": "stream",
          "name": "stdout",
          "text": [
            "Min Word per Sentence of Non-Sarcasm: 3.0\n",
            "Max Word per Sentence of Non-Sarcasm: 57.0\n",
            "Avg Word per Sentence of Non-Sarcasm: 11.835809943129702\n",
            "Min Word per Sentence of Sarcasm: 3.0\n",
            "Max Word per Sentence of Sarcasm: 52.0\n",
            "Avg Word per Sentence of Sarcasm: 12.247515599722671\n"
          ]
        }
      ],
      "source": [
        "word_per_sentence_0 = [textstat.words_per_sentence(tweet) for tweet in corpus_0]\n",
        "print(\"Min Word per Sentence of Non-Sarcasm: \" + str(min(word_per_sentence_0)))\n",
        "print(\"Max Word per Sentence of Non-Sarcasm: \" + str(max(word_per_sentence_0)))\n",
        "print(\"Avg Word per Sentence of Non-Sarcasm: \" + str(textstat.words_per_sentence(corpus_str_0)))\n",
        "word_per_sentence_1 = [textstat.words_per_sentence(tweet) for tweet in corpus_1]\n",
        "print(\"Min Word per Sentence of Sarcasm: \" + str(min(word_per_sentence_1)))\n",
        "print(\"Max Word per Sentence of Sarcasm: \" + str(max(word_per_sentence_1)))\n",
        "print(\"Avg Word per Sentence of Sarcasm: \" + str(textstat.words_per_sentence(corpus_str_1)))"
      ]
    },
    {
      "cell_type": "code",
      "execution_count": 12,
      "metadata": {
        "colab": {
          "base_uri": "https://localhost:8080/"
        },
        "id": "r5d3P_ktborO",
        "outputId": "2f09d21e-f8c6-4208-aa50-1311329bbff8"
      },
      "outputs": [
        {
          "output_type": "stream",
          "name": "stdout",
          "text": [
            "Reading Ease: 76.22\n",
            "Reading Ease of Non-Sarcasm: 76.42\n",
            "Reading Ease of Sarcasm: 76.01\n"
          ]
        }
      ],
      "source": [
        "'''\n",
        "70-79\tFairly Easy\n",
        "60-69\tStandard\n",
        "50-59\tFairly Difficult\n",
        "'''\n",
        "reading_ease = textstat.flesch_reading_ease(corpus_str)\n",
        "reading_ease_0 = textstat.flesch_reading_ease(corpus_str_0)\n",
        "reading_ease_1 = textstat.flesch_reading_ease(corpus_str_1)\n",
        "print(\"Reading Ease: \" + str(reading_ease))\n",
        "print(\"Reading Ease of Non-Sarcasm: \" + str(reading_ease_0))\n",
        "print(\"Reading Ease of Sarcasm: \" + str(reading_ease_1))"
      ]
    },
    {
      "cell_type": "code",
      "execution_count": 13,
      "metadata": {
        "colab": {
          "base_uri": "https://localhost:8080/"
        },
        "id": "WEpIk8rZbotl",
        "outputId": "8237dc19-57b2-4037-cee7-46ae6ed203fe"
      },
      "outputs": [
        {
          "output_type": "stream",
          "name": "stdout",
          "text": [
            "Readability: 6.9\n",
            "Readability of Non-Sarcasm: 6.6\n",
            "Readability of Sarcasm: 7.2\n"
          ]
        }
      ],
      "source": [
        "'''\n",
        "Returns the ARI (Automated Readability Index) which outputs a number that approximates the grade level needed to comprehend the text.\n",
        "\n",
        "For example if the ARI is 6.5, then the grade level to comprehend the text is 6th to 7th grade.\n",
        "'''\n",
        "readability = textstat.automated_readability_index(corpus_str)\n",
        "readability_0 = textstat.automated_readability_index(corpus_str_0)\n",
        "readability_1 = textstat.automated_readability_index(corpus_str_1)\n",
        "print(\"Readability: \" + str(readability))\n",
        "print(\"Readability of Non-Sarcasm: \" + str(readability_0))\n",
        "print(\"Readability of Sarcasm: \" + str(readability_1))"
      ]
    },
    {
      "cell_type": "code",
      "execution_count": 14,
      "metadata": {
        "colab": {
          "base_uri": "https://localhost:8080/"
        },
        "id": "XgqpU2SdboyR",
        "outputId": "7d4f5255-69bd-4de3-f1a1-1ee3051cbd01"
      },
      "outputs": [
        {
          "output_type": "stream",
          "name": "stdout",
          "text": [
            "Smog: 8.6\n",
            "Smog of Non-Sarcasm: 8.5\n",
            "Smog of Sarcasm: 8.7\n"
          ]
        }
      ],
      "source": [
        "'''\n",
        "Returns the SMOG index of the given text. This is a grade formula in that a score of 9.3 means that a ninth grader would be able to read the document.\n",
        "'''\n",
        "smog = textstat.smog_index(corpus_str)\n",
        "smog_0 = textstat.smog_index(corpus_str_0)\n",
        "smog_1 = textstat.smog_index(corpus_str_1)\n",
        "print(\"Smog: \" + str(smog))\n",
        "print(\"Smog of Non-Sarcasm: \" + str(smog_0))\n",
        "print(\"Smog of Sarcasm: \" + str(smog_1))"
      ]
    },
    {
      "cell_type": "code",
      "execution_count": 15,
      "metadata": {
        "colab": {
          "base_uri": "https://localhost:8080/"
        },
        "id": "baIMngGRjUX8",
        "outputId": "94ead6d2-d7b8-4686-91a1-fd21bd9fbf0c"
      },
      "outputs": [
        {
          "output_type": "stream",
          "name": "stdout",
          "text": [
            "Overall Readability Consensus: 6.0\n",
            "Overall Readability Consensus of Non-Sarcasm: 6.0\n",
            "Overall Readability Consensus of Sarcasm: 6.0\n"
          ]
        }
      ],
      "source": [
        "'''\n",
        "Based upon all the above tests, returns the estimated school grade level required to understand the text.\n",
        "'''\n",
        "txt_std = textstat.text_standard(corpus_str, True)\n",
        "txt_std_0 = textstat.text_standard(corpus_str_0, True)\n",
        "txt_std_1 = textstat.text_standard(corpus_str_1, True)\n",
        "print(\"Overall Readability Consensus: \" + str(txt_std))\n",
        "print(\"Overall Readability Consensus of Non-Sarcasm: \" + str(txt_std_0))\n",
        "print(\"Overall Readability Consensus of Sarcasm: \" + str(txt_std_1))"
      ]
    },
    {
      "cell_type": "code",
      "execution_count": 16,
      "metadata": {
        "colab": {
          "base_uri": "https://localhost:8080/"
        },
        "id": "s_3LLIitk_ub",
        "outputId": "cde85656-ee82-4236-b89c-d2bd4c741743"
      },
      "outputs": [
        {
          "output_type": "stream",
          "name": "stderr",
          "text": [
            "[nltk_data] Downloading package vader_lexicon to /root/nltk_data...\n"
          ]
        }
      ],
      "source": [
        "nltk.download('vader_lexicon')\n",
        "from nltk.sentiment import SentimentIntensityAnalyzer\n",
        "sia = SentimentIntensityAnalyzer()"
      ]
    },
    {
      "cell_type": "code",
      "execution_count": 17,
      "metadata": {
        "colab": {
          "base_uri": "https://localhost:8080/"
        },
        "id": "xhVjXUVfoOXb",
        "outputId": "71fe4b7e-5187-4a8e-cc02-8cfe328c3b20"
      },
      "outputs": [
        {
          "output_type": "stream",
          "name": "stdout",
          "text": [
            "{'neg': 0.08242480000000015, 'neu': 0.7768941999999979, 'pos': 0.14068079999999972, 'compound': 0.15483894000000004}\n"
          ]
        }
      ],
      "source": [
        "sent_scores = {\n",
        "    'neg': 0,\n",
        "    'neu': 0,\n",
        "    'pos': 0,\n",
        "    'compound': 0\n",
        "}\n",
        "for sentence in corpus:\n",
        "    score = sia.polarity_scores(sentence)\n",
        "    sent_scores['neg'] += score['neg']\n",
        "    sent_scores['neu'] += score['neu']\n",
        "    sent_scores['pos'] += score['pos']\n",
        "    sent_scores['compound'] += score['compound']\n",
        "\n",
        "sent_scores['neg'] /= len(corpus)\n",
        "sent_scores['neu'] /= len(corpus)\n",
        "sent_scores['pos'] /= len(corpus)\n",
        "sent_scores['compound'] /= len(corpus)\n",
        "print(sent_scores)"
      ]
    },
    {
      "cell_type": "code",
      "execution_count": 18,
      "metadata": {
        "colab": {
          "base_uri": "https://localhost:8080/"
        },
        "id": "65wNYrPQoOuH",
        "outputId": "10d8babd-717f-424f-cca8-bbe5bc170c34"
      },
      "outputs": [
        {
          "output_type": "stream",
          "name": "stdout",
          "text": [
            "{'neg': 0.06083839999999998, 'neu': 0.7773748000000006, 'pos': 0.16178839999999997, 'compound': 0.2691060799999999}\n"
          ]
        }
      ],
      "source": [
        "sent_scores_0 = {\n",
        "    'neg': 0,\n",
        "    'neu': 0,\n",
        "    'pos': 0,\n",
        "    'compound': 0\n",
        "}\n",
        "for sentence in corpus_0:\n",
        "    score = sia.polarity_scores(sentence)\n",
        "    sent_scores_0['neg'] += score['neg']\n",
        "    sent_scores_0['neu'] += score['neu']\n",
        "    sent_scores_0['pos'] += score['pos']\n",
        "    sent_scores_0['compound'] += score['compound']\n",
        "\n",
        "sent_scores_0['neg'] /= len(corpus_0)\n",
        "sent_scores_0['neu'] /= len(corpus_0)\n",
        "sent_scores_0['pos'] /= len(corpus_0)\n",
        "sent_scores_0['compound'] /= len(corpus_0)\n",
        "print(sent_scores_0)"
      ]
    },
    {
      "cell_type": "code",
      "execution_count": 19,
      "metadata": {
        "colab": {
          "base_uri": "https://localhost:8080/"
        },
        "id": "CKV6n9V_oOyw",
        "outputId": "3020c26b-0504-45fc-dbd6-75ac18686b90"
      },
      "outputs": [
        {
          "output_type": "stream",
          "name": "stdout",
          "text": [
            "{'neg': 0.10401119999999996, 'neu': 0.7764136000000006, 'pos': 0.11957319999999999, 'compound': 0.04057179999999999}\n"
          ]
        }
      ],
      "source": [
        "sent_scores_1 = {\n",
        "    'neg': 0,\n",
        "    'neu': 0,\n",
        "    'pos': 0,\n",
        "    'compound': 0\n",
        "}\n",
        "for sentence in corpus_1:\n",
        "    score = sia.polarity_scores(sentence)\n",
        "    sent_scores_1['neg'] += score['neg']\n",
        "    sent_scores_1['neu'] += score['neu']\n",
        "    sent_scores_1['pos'] += score['pos']\n",
        "    sent_scores_1['compound'] += score['compound']\n",
        "\n",
        "sent_scores_1['neg'] /= len(corpus_1)\n",
        "sent_scores_1['neu'] /= len(corpus_1)\n",
        "sent_scores_1['pos'] /= len(corpus_1)\n",
        "sent_scores_1['compound'] /= len(corpus_1)\n",
        "print(sent_scores_1)"
      ]
    }
  ],
  "metadata": {
    "colab": {
      "provenance": []
    },
    "kernelspec": {
      "display_name": "Python 3",
      "name": "python3"
    },
    "language_info": {
      "name": "python"
    }
  },
  "nbformat": 4,
  "nbformat_minor": 0
}